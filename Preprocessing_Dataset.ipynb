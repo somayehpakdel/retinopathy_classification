{
  "nbformat": 4,
  "nbformat_minor": 0,
  "metadata": {
    "colab": {
      "provenance": [],
      "authorship_tag": "ABX9TyPmsklrE4YyKUL/1jKViezt",
      "include_colab_link": true
    },
    "kernelspec": {
      "name": "python3",
      "display_name": "Python 3"
    },
    "language_info": {
      "name": "python"
    }
  },
  "cells": [
    {
      "cell_type": "markdown",
      "metadata": {
        "id": "view-in-github",
        "colab_type": "text"
      },
      "source": [
        "<a href=\"https://colab.research.google.com/github/somayehpakdel/retinopathy_classification/blob/main/Preprocessing_Dataset.ipynb\" target=\"_parent\"><img src=\"https://colab.research.google.com/assets/colab-badge.svg\" alt=\"Open In Colab\"/></a>"
      ]
    },
    {
      "cell_type": "markdown",
      "source": [
        "#Preprocessing Dataset"
      ],
      "metadata": {
        "id": "X9NDB9dXjO6C"
      }
    },
    {
      "cell_type": "markdown",
      "source": [
        "\n",
        "Images are presented in different light conditions, some images are very dark and difficult to visualize. To solve this problem, we can use an approach called Ben Graham's method to convert the images to gray scale.\n",
        "We also crop the areas that do not contain any special information."
      ],
      "metadata": {
        "id": "0mkaLpvtjJU2"
      }
    },
    {
      "cell_type": "code",
      "execution_count": null,
      "metadata": {
        "id": "gBBg7i-7d8Yp"
      },
      "outputs": [],
      "source": [
        "import cv2\n",
        "import os\n",
        "import matplotlib.pyplot as plt\n",
        "\n",
        "path_in='...'\n",
        "path_out='...'\n",
        "\n",
        "\n",
        "def crop_image_from_gray(img, tol=7):\n",
        "    if img.ndim == 2:\n",
        "        mask = img > tol\n",
        "        return img[np.ix_(mask.any(1), mask.any(0))]\n",
        "    elif img.ndim == 3:\n",
        "        gray_img = cv2.cvtColor(img, cv2.COLOR_RGB2GRAY)\n",
        "        mask = gray_img > tol\n",
        "\n",
        "        check_shape = img[:, :, 0][np.ix_(mask.any(1), mask.any(0))].shape[0]\n",
        "        if (check_shape == 0):  # image is too dark so that we crop out everything,\n",
        "            return img  # return original image\n",
        "        else:\n",
        "            img1 = img[:, :, 0][np.ix_(mask.any(1), mask.any(0))]\n",
        "            img2 = img[:, :, 1][np.ix_(mask.any(1), mask.any(0))]\n",
        "            img3 = img[:, :, 2][np.ix_(mask.any(1), mask.any(0))]\n",
        "            img = np.stack([img1, img2, img3], axis=-1)\n",
        "        return img\n",
        "\n",
        "def load_ben_color(path, sigmaX=10,IMG_SIZE=256):\n",
        "    image = cv2.imread(path)\n",
        "    image = cv2.cvtColor(image, cv2.COLOR_BGR2RGB)\n",
        "    image = crop_image_from_gray(image)\n",
        "    image = cv2.resize(image, (IMG_SIZE, IMG_SIZE))\n",
        "    image = cv2.addWeighted(image, 4, cv2.GaussianBlur(image, (0, 0), sigmaX), -4, 128)\n",
        "    return image\n",
        "i=1\n",
        "for dirs,subdirs,files in os.walk(path_in):\n",
        "    for file in files:\n",
        "        path_images=os.path.join(path_in,file)\n",
        "        image=load_ben_color(path=path_images, sigmaX=10, IMG_SIZE=256)\n",
        "        cv2.imwrite(os.path.join(path_out,file),image)\n",
        "        print(i)\n",
        "        i+=1"
      ]
    },
    {
      "cell_type": "markdown",
      "source": [
        "**<p align=\"center\">\n",
        "Example of preprocessed image**\n",
        "</p>\n",
        "<p align=\"center\">\n",
        "<img src=\"https://s2.uupload.ir/files/0c76fd494af6_ve5d.png\">\n",
        "</p>"
      ],
      "metadata": {
        "id": "MYWaCXCkoXbo"
      }
    }
  ]
}