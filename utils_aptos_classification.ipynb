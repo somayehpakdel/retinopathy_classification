{
  "nbformat": 4,
  "nbformat_minor": 0,
  "metadata": {
    "colab": {
      "provenance": [],
      "authorship_tag": "ABX9TyNtxxqlSYOVor++i9HrlxGw",
      "include_colab_link": true
    },
    "kernelspec": {
      "name": "python3",
      "display_name": "Python 3"
    },
    "language_info": {
      "name": "python"
    }
  },
  "cells": [
    {
      "cell_type": "markdown",
      "metadata": {
        "id": "view-in-github",
        "colab_type": "text"
      },
      "source": [
        "<a href=\"https://colab.research.google.com/github/somayehpakdel/aptos_classification/blob/main/utils_aptos_classification.ipynb\" target=\"_parent\"><img src=\"https://colab.research.google.com/assets/colab-badge.svg\" alt=\"Open In Colab\"/></a>"
      ]
    },
    {
      "cell_type": "code",
      "execution_count": null,
      "metadata": {
        "id": "z9Eio7Rlez9y"
      },
      "outputs": [],
      "source": [
        "from fastai.vision.all import *\n",
        "class model_head(nn.Module):\n",
        "  def __init__(self,nf,n_classes):\n",
        "    super(model_head,self).__init__()\n",
        "   # self.pooling=nn.AdaptiveAvgPool2d(1)\n",
        "    self.bn1=nn.BatchNorm1d(nf)\n",
        "    self.do1=nn.Dropout(p=0.4)\n",
        "    self.linear1=nn.Linear(nf,2048)\n",
        "    self.bn2=nn.BatchNorm1d(2048)\n",
        "    self.do2=nn.Dropout(p=0.4)\n",
        "    self.linear2=nn.Linear(2048,1024)\n",
        "    self.bn3=nn.BatchNorm1d(1024)\n",
        "    self.do3=nn.Dropout(p=0.3)\n",
        "    self.linear3=nn.Linear(1024,512)\n",
        "    self.bn4=nn.BatchNorm1d(512)\n",
        "    self.do4=nn.Dropout(p=0.3)\n",
        "    self.linear4=nn.Linear(512,n_classes)\n",
        "  def forward(self,x):\n",
        "  #  x=self.pooling(x)\n",
        "    #print('pool')\n",
        "    x=self.bn1(x)\n",
        "    #print('bn1')\n",
        "    x=self.do1(x)\n",
        "    #x=self.linear1(x)\n",
        "    x=F.elu(self.linear1(x))\n",
        "    #print('elu1')\n",
        "    x=self.bn2(x)\n",
        "    x=self.do2(x)\n",
        "    x=F.elu(self.linear2(x))\n",
        "    #print('elu2')\n",
        "    x=self.bn3(x)\n",
        "    x=self.do3(x)\n",
        "    x=F.elu(self.linear3(x))\n",
        "    x=self.bn4(x)\n",
        "    x=self.do4(x)\n",
        "    x=self.linear4(x)\n",
        "    #print(x.shape)\n",
        "    x=F.softmax(x,dim=1)\n",
        "    return x"
      ]
    }
  ]
}