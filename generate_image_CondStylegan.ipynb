{
  "nbformat": 4,
  "nbformat_minor": 0,
  "metadata": {
    "colab": {
      "provenance": [],
      "mount_file_id": "1xAdRvt003fZHxP4IlGZP_YHiNpmJPsEn",
      "authorship_tag": "ABX9TyMxOErAt+Qk+p4Z9eMVF5SH"
    },
    "kernelspec": {
      "name": "python3",
      "display_name": "Python 3"
    },
    "language_info": {
      "name": "python"
    }
  },
  "cells": [
    {
      "cell_type": "markdown",
      "source": [
        "#Generating Images From Pretrained Conditional_Stylegan"
      ],
      "metadata": {
        "id": "IQsDGc2nZcVk"
      }
    },
    {
      "cell_type": "code",
      "source": [
        "%cd /content/drive/MyDrive/aptos256_preprocessed/stylegan_tf2/stylegan"
      ],
      "metadata": {
        "colab": {
          "base_uri": "https://localhost:8080/"
        },
        "id": "IHFqxBJRaDKO",
        "outputId": "ca00a307-cf74-49cd-e4ff-b74321bbfcc1"
      },
      "execution_count": 1,
      "outputs": [
        {
          "output_type": "stream",
          "name": "stdout",
          "text": [
            "/content/drive/MyDrive/stylegan_tf2/stylegan\n"
          ]
        }
      ]
    },
    {
      "cell_type": "code",
      "execution_count": null,
      "metadata": {
        "id": "viFECg7aZHjm"
      },
      "outputs": [],
      "source": [
        "# 2\n",
        "# ----------------------------------------------\n",
        "import pickle\n",
        "import numpy as np\n",
        "import tensorflow.compat.v1 as tf\n",
        "tf.disable_v2_behavior()\n",
        "import PIL.Image\n",
        "lats=[]\n",
        "imgs=[]\n",
        "\n",
        "\n",
        "\n",
        "\n",
        "# Initialize TensorFlow session.\n",
        "# tf.InteractiveSession()\n",
        "url = '/content/drive/MyDrive/dataset_mnist/stylegan-master/results/00017-sgan-mnist_tfrecord-1gpu/network-snapshot-001100.pkl'\n",
        "with tf.Session() as sess:\n",
        "     with open(url, 'rb') as file:\n",
        "          G, D, Gs = pickle.load(file)\n",
        "     for i in range(1):\n",
        "          print(i)\n",
        "          latents = np.random.randn(1, 512) # 1000 random latents\n",
        "          lats.append(latents)\n",
        "          labels=np.array([0,0,0,0,0,0,0,0,1,0])\n",
        "          images = Gs.run(latents,labels.reshape(1,10))\n",
        "          images = np.clip(np.rint((images + 1.0) / 2.0 * 255.0), 0.0, 255.0).astype(np.uint8) # [-1,1] => [0,255]\n",
        "          images = images.transpose(0, 2, 3, 1) # NCHW => NHWC\n",
        "          imgs.append(images)\n",
        "from matplotlib import pyplot\n",
        "pyplot.imshow(images.reshape(32,32),cmap='gray', vmin=0, vmax=255)\n",
        "pyplot.show()\n"
      ]
    }
  ]
}